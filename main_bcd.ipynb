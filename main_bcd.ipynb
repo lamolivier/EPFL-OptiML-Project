{
 "cells": [
  {
   "cell_type": "code",
   "execution_count": 1,
   "metadata": {},
   "outputs": [],
   "source": [
    "import numpy as np\n",
    "import torch\n",
    "from torchvision import datasets, transforms\n",
    "import bcd.helpers as helpers\n",
    "from bcd.ModelBCD import ModelBCD\n",
    "\n",
    "%load_ext autoreload\n",
    "%autoreload 2\n",
    "\n"
   ]
  },
  {
   "cell_type": "code",
   "execution_count": 2,
   "metadata": {},
   "outputs": [],
   "source": [
    "# Convert to tensor and scale to [0, 1]\n",
    "ts = transforms.Compose([transforms.ToTensor(),\n",
    "                         transforms.Normalize((0,), (1,))])\n",
    "mnist_trainset = datasets.MNIST(root='data', train=True, download=True, transform=ts)\n",
    "mnist_testset = datasets.MNIST(root='data', train=False, download=True, transform=ts)\n"
   ]
  },
  {
   "cell_type": "code",
   "execution_count": 4,
   "metadata": {},
   "outputs": [],
   "source": [
    "x_train, y_train, y_train_1hot, x_test, y_test, y_test_1hot = helpers.preprocess_data(mnist_trainset, mnist_testset)"
   ]
  },
  {
   "cell_type": "code",
   "execution_count": 5,
   "metadata": {},
   "outputs": [
    {
     "data": {
      "text/plain": [
       "torch.Size([60000, 10])"
      ]
     },
     "execution_count": 5,
     "metadata": {},
     "output_type": "execute_result"
    }
   ],
   "source": [
    "y_train_1hot.size()"
   ]
  },
  {
   "cell_type": "code",
   "execution_count": 69,
   "metadata": {},
   "outputs": [],
   "source": [
    "def convert_to_one_hot_labels(input, target):\n",
    "    tmp = input.new_zeros(target.size(0), target.max() + 1)\n",
    "    tmp.scatter_(1, target.view(-1, 1), 1.0)\n",
    "    return tmp"
   ]
  },
  {
   "cell_type": "code",
   "execution_count": 75,
   "metadata": {},
   "outputs": [],
   "source": [
    "test = convert_to_one_hot_labels(x_train, y_train)"
   ]
  },
  {
   "cell_type": "code",
   "execution_count": 96,
   "metadata": {},
   "outputs": [
    {
     "data": {
      "text/plain": [
       "10"
      ]
     },
     "execution_count": 96,
     "metadata": {},
     "output_type": "execute_result"
    }
   ],
   "source": [
    "y_train.max().item()+1"
   ]
  },
  {
   "cell_type": "code",
   "execution_count": 6,
   "metadata": {},
   "outputs": [
    {
     "data": {
      "text/plain": [
       "torch.Size([10, 10000])"
      ]
     },
     "execution_count": 6,
     "metadata": {},
     "output_type": "execute_result"
    }
   ],
   "source": [
    "y_test_1hot.size()"
   ]
  },
  {
   "cell_type": "code",
   "execution_count": 41,
   "metadata": {},
   "outputs": [],
   "source": [
    "x_t = torch.empty((60000, 1 * 28 * 28))"
   ]
  },
  {
   "cell_type": "code",
   "execution_count": 42,
   "metadata": {},
   "outputs": [],
   "source": [
    "x_t[0, :] = mnist_trainset[0][0].reshape(1, 1 * 28 * 28)\n"
   ]
  },
  {
   "cell_type": "code",
   "execution_count": 64,
   "metadata": {},
   "outputs": [
    {
     "data": {
      "text/plain": [
       "torch.Size([60000, 784])"
      ]
     },
     "execution_count": 64,
     "metadata": {},
     "output_type": "execute_result"
    }
   ],
   "source": [
    "x_train.size()"
   ]
  },
  {
   "cell_type": "code",
   "execution_count": 4,
   "metadata": {},
   "outputs": [],
   "source": [
    "gamma = alpha = rho = 1\n",
    "classes = 10\n",
    "input_layer_size, n_samples_train = x_train.size()\n",
    "n_samples_test = x_test.size()[1]\n",
    "\n",
    "# Layers: input + 3 hidden + output\n",
    "layer_1_size = layer_2_size = layer_3_size = 200"
   ]
  },
  {
   "cell_type": "code",
   "execution_count": 14,
   "metadata": {},
   "outputs": [],
   "source": [
    "w1 = 0.01*torch.randn(100, 10)\n",
    "b1 = torch.ones(100, 1)\n",
    "x = torch.randn(100)"
   ]
  },
  {
   "cell_type": "code",
   "execution_count": 31,
   "metadata": {},
   "outputs": [
    {
     "data": {
      "text/plain": [
       "torch.Size([100, 100])"
      ]
     },
     "execution_count": 31,
     "metadata": {},
     "output_type": "execute_result"
    }
   ],
   "source": [
    "b1.repeat(1, 100).size()"
   ]
  },
  {
   "cell_type": "code",
   "execution_count": 19,
   "metadata": {},
   "outputs": [],
   "source": [
    "model = ModelBCD(input_layer_size, layer_1_size, layer_2_size, layer_3_size, classes, gamma, alpha, rho)"
   ]
  },
  {
   "cell_type": "code",
   "execution_count": 20,
   "metadata": {},
   "outputs": [],
   "source": [
    "n_iter = 5\n",
    "n_epochs = 10\n",
    "loss = np.empty(n_iter)\n",
    "accuracies_train = np.empty(n_iter)\n",
    "accuracies_test = np.empty(n_iter)\n",
    "loss_test = np.empty(n_iter)\n",
    "\n",
    "model.init_aux_params(x_train)\n"
   ]
  },
  {
   "cell_type": "code",
   "execution_count": 21,
   "metadata": {},
   "outputs": [
    {
     "data": {
      "text/plain": [
       "torch.Size([10, 60000])"
      ]
     },
     "execution_count": 21,
     "metadata": {},
     "output_type": "execute_result"
    }
   ],
   "source": [
    "y_train_1hot.size()"
   ]
  },
  {
   "cell_type": "code",
   "execution_count": 22,
   "metadata": {},
   "outputs": [
    {
     "name": "stdout",
     "output_type": "stream",
     "text": [
      "Train on 60000 samples, validate on 10000 samples\n",
      "Epoch: 1 / 60 \n",
      " loss: 27181.9844 - acc:0.5105 - val_acc:0.5207\n",
      "Epoch: 2 / 60 \n",
      " loss: 15298.0088 - acc:0.8046 - val_acc:0.8192\n",
      "Epoch: 3 / 60 \n",
      " loss: 9286.0391 - acc:0.8376 - val_acc:0.8462\n",
      "Epoch: 4 / 60 \n",
      " loss: 5709.7236 - acc:0.8458 - val_acc:0.8533\n",
      "Epoch: 5 / 60 \n",
      " loss: 3526.5623 - acc:0.8501 - val_acc:0.8576\n",
      "Epoch: 6 / 60 \n",
      " loss: 2179.9231 - acc:0.8522 - val_acc:0.8595\n",
      "Epoch: 7 / 60 \n",
      " loss: 1351.2394 - acc:0.8536 - val_acc:0.8613\n",
      "Epoch: 8 / 60 \n",
      " loss: 838.8889 - acc:0.8544 - val_acc:0.8620\n",
      "Epoch: 9 / 60 \n",
      " loss: 521.7051 - acc:0.8548 - val_acc:0.8624\n",
      "Epoch: 10 / 60 \n",
      " loss: 324.7456 - acc:0.8548 - val_acc:0.8625\n",
      "Epoch: 11 / 60 \n",
      " loss: 202.4896 - acc:0.8548 - val_acc:0.8629\n",
      "Epoch: 12 / 60 \n",
      " loss: 126.3958 - acc:0.8551 - val_acc:0.8628\n",
      "Epoch: 13 / 60 \n",
      " loss: 78.9371 - acc:0.8555 - val_acc:0.8628\n",
      "Epoch: 14 / 60 \n",
      " loss: 49.3827 - acc:0.8556 - val_acc:0.8631\n",
      "Epoch: 15 / 60 \n",
      " loss: 30.9339 - acc:0.8553 - val_acc:0.8632\n",
      "Epoch: 16 / 60 \n",
      " loss: 19.3990 - acc:0.8552 - val_acc:0.8631\n",
      "Epoch: 17 / 60 \n",
      " loss: 12.1919 - acc:0.8554 - val_acc:0.8625\n",
      "Epoch: 18 / 60 \n",
      " loss: 7.6801 - acc:0.8552 - val_acc:0.8623\n",
      "Epoch: 19 / 60 \n",
      " loss: 4.8501 - acc:0.8552 - val_acc:0.8621\n",
      "Epoch: 20 / 60 \n",
      " loss: 3.0747 - acc:0.8552 - val_acc:0.8617\n",
      "Epoch: 21 / 60 \n",
      " loss: 1.9579 - acc:0.8554 - val_acc:0.8617\n",
      "Epoch: 22 / 60 \n",
      " loss: 1.2539 - acc:0.8555 - val_acc:0.8619\n",
      "Epoch: 23 / 60 \n",
      " loss: 0.8095 - acc:0.8555 - val_acc:0.8620\n",
      "Epoch: 24 / 60 \n",
      " loss: 0.5279 - acc:0.8557 - val_acc:0.8625\n",
      "Epoch: 25 / 60 \n",
      " loss: 0.3488 - acc:0.8556 - val_acc:0.8625\n",
      "Epoch: 26 / 60 \n",
      " loss: 0.2344 - acc:0.8556 - val_acc:0.8630\n",
      "Epoch: 27 / 60 \n",
      " loss: 0.1609 - acc:0.8557 - val_acc:0.8631\n",
      "Epoch: 28 / 60 \n",
      " loss: 0.1136 - acc:0.8560 - val_acc:0.8632\n",
      "Epoch: 29 / 60 \n",
      " loss: 0.0828 - acc:0.8560 - val_acc:0.8633\n",
      "Epoch: 30 / 60 \n",
      " loss: 0.0625 - acc:0.8562 - val_acc:0.8634\n",
      "Epoch: 31 / 60 \n",
      " loss: 0.0490 - acc:0.8562 - val_acc:0.8634\n",
      "Epoch: 32 / 60 \n",
      " loss: 0.0398 - acc:0.8563 - val_acc:0.8636\n",
      "Epoch: 33 / 60 \n",
      " loss: 0.0336 - acc:0.8565 - val_acc:0.8638\n",
      "Epoch: 34 / 60 \n",
      " loss: 0.0292 - acc:0.8565 - val_acc:0.8639\n",
      "Epoch: 35 / 60 \n",
      " loss: 0.0260 - acc:0.8566 - val_acc:0.8641\n",
      "Epoch: 36 / 60 \n",
      " loss: 0.0237 - acc:0.8569 - val_acc:0.8643\n",
      "Epoch: 37 / 60 \n",
      " loss: 0.0219 - acc:0.8570 - val_acc:0.8642\n",
      "Epoch: 38 / 60 \n",
      " loss: 0.0205 - acc:0.8572 - val_acc:0.8645\n",
      "Epoch: 39 / 60 \n",
      " loss: 0.0194 - acc:0.8572 - val_acc:0.8643\n",
      "Epoch: 40 / 60 \n",
      " loss: 0.0184 - acc:0.8575 - val_acc:0.8643\n",
      "Epoch: 41 / 60 \n",
      " loss: 0.0177 - acc:0.8577 - val_acc:0.8647\n",
      "Epoch: 42 / 60 \n",
      " loss: 0.0170 - acc:0.8578 - val_acc:0.8649\n",
      "Epoch: 43 / 60 \n",
      " loss: 0.0164 - acc:0.8579 - val_acc:0.8649\n",
      "Epoch: 44 / 60 \n",
      " loss: 0.0159 - acc:0.8580 - val_acc:0.8650\n",
      "Epoch: 45 / 60 \n",
      " loss: 0.0154 - acc:0.8581 - val_acc:0.8651\n",
      "Epoch: 46 / 60 \n",
      " loss: 0.0150 - acc:0.8583 - val_acc:0.8652\n",
      "Epoch: 47 / 60 \n",
      " loss: 0.0146 - acc:0.8583 - val_acc:0.8654\n",
      "Epoch: 48 / 60 \n",
      " loss: 0.0142 - acc:0.8584 - val_acc:0.8656\n",
      "Epoch: 49 / 60 \n",
      " loss: 0.0138 - acc:0.8585 - val_acc:0.8657\n",
      "Epoch: 50 / 60 \n",
      " loss: 0.0135 - acc:0.8587 - val_acc:0.8662\n",
      "Epoch: 51 / 60 \n",
      " loss: 0.0132 - acc:0.8587 - val_acc:0.8664\n",
      "Epoch: 52 / 60 \n",
      " loss: 0.0129 - acc:0.8588 - val_acc:0.8663\n",
      "Epoch: 53 / 60 \n",
      " loss: 0.0126 - acc:0.8588 - val_acc:0.8665\n",
      "Epoch: 54 / 60 \n",
      " loss: 0.0123 - acc:0.8589 - val_acc:0.8664\n",
      "Epoch: 55 / 60 \n",
      " loss: 0.0120 - acc:0.8590 - val_acc:0.8664\n",
      "Epoch: 56 / 60 \n",
      " loss: 0.0118 - acc:0.8590 - val_acc:0.8664\n",
      "Epoch: 57 / 60 \n",
      " loss: 0.0116 - acc:0.8590 - val_acc:0.8665\n",
      "Epoch: 58 / 60 \n",
      " loss: 0.0113 - acc:0.8591 - val_acc:0.8666\n",
      "Epoch: 59 / 60 \n",
      " loss: 0.0111 - acc:0.8592 - val_acc:0.8667\n",
      "Epoch: 60 / 60 \n",
      " loss: 0.0109 - acc:0.8593 - val_acc:0.8667\n"
     ]
    }
   ],
   "source": [
    "# TODO add time measurements\n",
    "\n",
    "print('Train on', n_samples_train, 'samples, validate on', n_samples_test, 'samples')\n",
    "for k in range(n_iter):\n",
    "    model = ModelBCD(input_layer_size, layer_1_size, layer_2_size, layer_3_size, classes, gamma, alpha, rho)\n",
    "    for e in range(n_epochs)\n",
    "        model.update_params(y_train_1hot, x_train)\n",
    "\n",
    "        train_output = model.forward(x_train)\n",
    "\n",
    "        # training prediction\n",
    "        pred_train = torch.argmax(train_output, dim=0)\n",
    "\n",
    "        test_output = model.forward(x_test)\n",
    "\n",
    "        # test/validation prediction\n",
    "        pred_test = torch.argmax(test_output, dim=0)\n",
    "\n",
    "        # compute training loss\n",
    "        loss[k] = torch.pow(torch.dist(model.V4, y_train_1hot, 2), 2)\n",
    "        loss_test[k] = torch.pow(torch.dist(test_output, y_test_1hot, 2), 2)\n",
    "\n",
    "        # compute training accuracy\n",
    "        correct_train = pred_train == y_train\n",
    "        accuracies_train[k] = np.mean(correct_train.numpy())\n",
    "\n",
    "        # compute validation accuracy\n",
    "        correct_test = pred_test == y_test\n",
    "        accuracies_test[k] = np.mean(correct_test.numpy())\n",
    "\n",
    "    # print results\n",
    "    print(\n",
    "        f\"Epoch: {k + 1} / {n_iter} \\n loss: {loss[k]:.4f} - acc:{accuracies_train[k]:.4f} - val_acc:{accuracies_test[k]:.4f}\")\n"
   ]
  },
  {
   "cell_type": "code",
   "execution_count": 23,
   "metadata": {},
   "outputs": [
    {
     "data": {
      "image/png": "[encoded data removed]",
      "text/plain": [
       "<Figure size 1080x576 with 1 Axes>"
      ]
     },
     "metadata": {
      "needs_background": "light"
     },
     "output_type": "display_data"
    }
   ],
   "source": [
    "helpers.plot_losses(loss, loss_test, n_iter)"
   ]
  },
  {
   "cell_type": "code",
   "execution_count": null,
   "metadata": {},
   "outputs": [],
   "source": []
  }
 ],
 "metadata": {
  "kernelspec": {
   "display_name": "Python 3",
   "language": "python",
   "name": "python3"
  },
  "language_info": {
   "codemirror_mode": {
    "name": "ipython",
    "version": 3
   },
   "file_extension": ".py",
   "mimetype": "text/x-python",
   "name": "python",
   "nbconvert_exporter": "python",
   "pygments_lexer": "ipython3",
   "version": "3.7.6"
  }
 },
 "nbformat": 4,
 "nbformat_minor": 4
}
