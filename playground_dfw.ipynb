{
 "cells": [
  {
   "cell_type": "code",
   "execution_count": 11,
   "metadata": {},
   "outputs": [],
   "source": [
    "import matplotlib.pyplot as plt\n",
    "import torch\n",
    "from torchvision import datasets, transforms,utils\n",
    "from torch.utils.data import DataLoader\n",
    "from torch.utils.tensorboard import SummaryWriter\n",
    "from torch import nn\n",
    "from torch.nn import functional as F\n",
    "from dfw import DFW\n",
    "from dfw.losses import MultiClassHingeLoss\n",
    "\n",
    "import itertools\n"
   ]
  },
  {
   "cell_type": "code",
   "execution_count": 2,
   "metadata": {},
   "outputs": [],
   "source": [
    "BATCH_SIZE = 50"
   ]
  },
  {
   "cell_type": "code",
   "execution_count": 3,
   "metadata": {},
   "outputs": [],
   "source": [
    "ts = transforms.Compose([transforms.ToTensor(), transforms.Normalize((0,), (1,))])\n",
    "\n",
    "mnist_train = datasets.MNIST('data/', train=True, download=True, transform=ts)\n",
    "mnist_test = datasets.MNIST('data/', train=False, download=True, transform=ts)\n",
    "train_data = DataLoader(mnist_train,batch_size=3000, shuffle = True)\n",
    "test_data = DataLoader(mnist_test,batch_size=1000, shuffle = True)\n",
    "\n"
   ]
  },
  {
   "cell_type": "code",
   "execution_count": 2,
   "metadata": {},
   "outputs": [
    {
     "name": "stdout",
     "output_type": "stream",
     "text": [
      "0\n",
      "1\n",
      "2\n"
     ]
    }
   ],
   "source": [
    "l = [1, 2, 3]\n",
    "for i,j in enumerate(l):\n",
    "    print(i)"
   ]
  },
  {
   "cell_type": "code",
   "execution_count": 168,
   "metadata": {},
   "outputs": [],
   "source": [
    "class DigitNet(nn.Module):\n",
    "    \"\"\"Used for digit classification\"\"\"\n",
    "\n",
    "    def __init__(self):\n",
    "        super(DigitNet, self).__init__()\n",
    "        self.conv1 = nn.Conv2d(1, 8, kernel_size=3)\n",
    "        self.conv2 = nn.Conv2d(8, 16, kernel_size=3)\n",
    "        self.fc1 = nn.Linear(16*5*5, 200)\n",
    "        self.fc2 = nn.Linear(200, 10)\n",
    "\n",
    "    def forward(self, x):\n",
    "        x = F.relu(F.max_pool2d(self.conv1(x), kernel_size=2))\n",
    "        x = F.relu(F.max_pool2d(self.conv2(x), kernel_size=2))\n",
    "        x = F.relu(self.fc1(x.view(-1, 16*5*5)))\n",
    "        x = self.fc2(x)\n",
    "        # no need for softmax here because crossEntropyLoss() already applies one\n",
    "        return x\n"
   ]
  },
  {
   "cell_type": "code",
   "execution_count": 169,
   "metadata": {},
   "outputs": [],
   "source": [
    "class Model:\n",
    "  \n",
    "    def __init__(self):\n",
    "        self.model = DigitNet()\n",
    "       \n",
    "    def train(self, train_data,nb_epochs=10, lr=1e-1, verbose=True):\n",
    "        \n",
    "        # create DFW optimizer \n",
    "        optimizer = DFW(self.model.parameters(), eta=lr)\n",
    "\n",
    "        \n",
    "        criterion = MultiClassHingeLoss()\n",
    "        \n",
    "        # SGD optimizer\n",
    "        #optimizer = torch.optim.SGD(self.model.parameters(), lr=lr)\n",
    "\n",
    "        # Binary Cross Entropy Loss used for digit comparison\n",
    "        #criterion = nn.CrossEntropyLoss()\n",
    "        \n",
    "\n",
    "        for e in range(nb_epochs):\n",
    "            if verbose and e  != 0:\n",
    "                print(\"Epochs {}\".format(e))\n",
    "                print(\"loss = {}\".format(loss))\n",
    "            \n",
    "            for images, labels in iter(train_data):\n",
    "                \n",
    "                # Forward pass\n",
    "                model_output = self.model(images)\n",
    "                \n",
    "                loss = criterion(model_output,labels)\n",
    "                \n",
    "                # Apply the backward step\n",
    "                optimizer.zero_grad()\n",
    "                loss.backward()\n",
    "                optimizer.step(lambda: float(loss))\n",
    "        \n",
    "\n",
    "    def test(self, test_data):\n",
    "        \"\"\"Test method using the error rate as a metric \"\"\"\n",
    "        # Init the number of correct predictions\n",
    "        nb_correct = 0\n",
    "                \n",
    "        # Number of samples\n",
    "        N = len(test_data) * BATCH_SIZE \n",
    "\n",
    "        for images, labels in iter(test_data):\n",
    "            # Run the model on a mini batch of the images\n",
    "            model_output = self.model(images)\n",
    "                \n",
    "            # Get the targets\n",
    "            predicted_labels = torch.argmax(model_output,1,keepdim=True).view(labels.size()[0])\n",
    "                \n",
    "            # Count the number of correct predictions\n",
    "            nb_correct +=(predicted_labels == labels).int().sum().item()\n",
    "            \n",
    "        return nb_correct / N\n",
    "       "
   ]
  },
  {
   "cell_type": "code",
   "execution_count": 170,
   "metadata": {},
   "outputs": [
    {
     "name": "stdout",
     "output_type": "stream",
     "text": [
      "Epochs 1\n",
      "loss = 0.04388212040066719\n",
      "Epochs 2\n",
      "loss = 0.023867564275860786\n",
      "Epochs 3\n",
      "loss = 0.025275349617004395\n",
      "Epochs 4\n",
      "loss = 0.012584369629621506\n",
      "Epochs 5\n",
      "loss = 0.00035743237822316587\n",
      "Epochs 6\n",
      "loss = 0.005485172383487225\n",
      "Epochs 7\n",
      "loss = 0.004172940272837877\n",
      "Epochs 8\n",
      "loss = 0.0\n",
      "Epochs 9\n",
      "loss = 0.0\n"
     ]
    }
   ],
   "source": [
    "model = Model()\n",
    "model.train(train_data)"
   ]
  },
  {
   "cell_type": "code",
   "execution_count": 171,
   "metadata": {},
   "outputs": [
    {
     "data": {
      "text/plain": [
       "0.9887"
      ]
     },
     "execution_count": 171,
     "metadata": {},
     "output_type": "execute_result"
    }
   ],
   "source": [
    "model.test(test_data)"
   ]
  },
  {
   "cell_type": "code",
   "execution_count": null,
   "metadata": {},
   "outputs": [],
   "source": []
  }
 ],
 "metadata": {
  "kernelspec": {
   "display_name": "Python 3",
   "language": "python",
   "name": "python3"
  },
  "language_info": {
   "codemirror_mode": {
    "name": "ipython",
    "version": 3
   },
   "file_extension": ".py",
   "mimetype": "text/x-python",
   "name": "python",
   "nbconvert_exporter": "python",
   "pygments_lexer": "ipython3",
   "version": "3.7.6"
  }
 },
 "nbformat": 4,
 "nbformat_minor": 4
}
